{
  "nbformat": 4,
  "nbformat_minor": 0,
  "metadata": {
    "colab": {
      "name": "Lap3.ipynb",
      "provenance": [],
      "mount_file_id": "1SYEA0JuZnuQf0v9hY29tfW5F233_pDqL",
      "authorship_tag": "ABX9TyNc+luFdJb0ypnzlUn0YmsW",
      "include_colab_link": true
    },
    "kernelspec": {
      "name": "python3",
      "display_name": "Python 3"
    },
    "language_info": {
      "name": "python"
    }
  },
  "cells": [
    {
      "cell_type": "markdown",
      "metadata": {
        "id": "view-in-github",
        "colab_type": "text"
      },
      "source": [
        "<a href=\"https://colab.research.google.com/github/andirah/andirah.github.io/blob/master/prak3.ipynb\" target=\"_parent\"><img src=\"https://colab.research.google.com/assets/colab-badge.svg\" alt=\"Open In Colab\"/></a>"
      ]
    },
    {
      "cell_type": "code",
      "execution_count": 151,
      "metadata": {
        "id": "hFoCgflc3GNx"
      },
      "outputs": [],
      "source": [
        "import matplotlib.pyplot as plt\n",
        "import matplotlib.image as mping\n",
        "from keras.preprocessing.image import ImageDataGenerator\n",
        "from keras.models import Sequential\n",
        "from keras.layers import Conv2D, MaxPooling2D, BatchNormalization\n",
        "from keras.layers import Activation, Dropout, Flatten, Dense\n",
        "\n",
        "import os\n",
        "import cv2\n",
        "from PIL import Image\n",
        "import numpy as np\n",
        "Image_directory ='/content/drive/MyDrive/train'\n",
        "SIZE = 150\n",
        "dataset = []\n",
        "label = []"
      ]
    },
    {
      "cell_type": "code",
      "source": [
        "parastized_images = os.listdir(Image_directory + '/Parasitized/')\n",
        "for i, image_name in enumerate(parastized_images):\n",
        "  if (image_name.split('.')[1]=='png'):\n",
        "    image = cv2.imread(Image_directory + '/Parasitized/' + image_name)\n",
        "    image = Image.fromarray(image, \"RGB\")\n",
        "    image = image.resize((SIZE, SIZE))\n",
        "    dataset.append(np.array(image))\n",
        "    label.append(0) #untuk memberikan label pada parasitized"
      ],
      "metadata": {
        "id": "RTlcg5a08K3J"
      },
      "execution_count": 142,
      "outputs": []
    },
    {
      "cell_type": "code",
      "source": [
        "uninfected_images = os.listdir(Image_directory + '/Uninfected/')\n",
        "for i, image_name in enumerate(uninfected_images):\n",
        "  if (image_name.split('.')[1]=='png'):\n",
        "    image = cv2.imread(Image_directory + '/Uninfected/' + image_name)\n",
        "    image = Image.fromarray(image, \"RGB\")\n",
        "    image = image.resize((SIZE, SIZE))\n",
        "    dataset.append(np.array(image))\n",
        "    label.append(1) #untuk memberikan label pada uninfected"
      ],
      "metadata": {
        "id": "M1-AfDiDByAA"
      },
      "execution_count": 143,
      "outputs": []
    },
    {
      "cell_type": "code",
      "source": [
        "dataset = np.array(dataset) #mengubah data gambar menjadi array\n",
        "label = np.array(label)"
      ],
      "metadata": {
        "id": "dlEC8evKSiXW"
      },
      "execution_count": 144,
      "outputs": []
    },
    {
      "cell_type": "code",
      "source": [
        "from sklearn.model_selection import train_test_split #model building /Membuat Kumpulan Data Uji dan latih\n",
        "from keras.utils.np_utils import normalize\n",
        "\n",
        "x_train, x_test, y_train, y_test = train_test_split(dataset, label, test_size=0.20, random_state=80)\n",
        "x_train = normalize(x_train, axis=1)\n",
        "x_test = normalize(x_test, axis=1)"
      ],
      "metadata": {
        "id": "Lk-P-YE52t9h"
      },
      "execution_count": 147,
      "outputs": []
    },
    {
      "cell_type": "code",
      "source": [
        "INPUT_SHAPE = (SIZE, SIZE, 3) #membangun model yang telah ditentukan\n",
        "\n",
        "model = Sequential()\n",
        "model.add(Conv2D(32,(3, 3), input_shape = INPUT_SHAPE))\n",
        "model.add(Activation('relu'))\n",
        "model.add(MaxPooling2D(pool_size = (2, 2)))\n",
        "\n",
        "model.add(Conv2D(32,(3, 3), kernel_initializer = 'he_uniform'))\n",
        "model.add(Activation('relu'))\n",
        "model.add(MaxPooling2D(pool_size = (2, 2)))\n",
        "\n",
        "model.add(Conv2D(64,(3, 3), kernel_initializer = 'he_uniform'))\n",
        "model.add(Activation('relu'))\n",
        "model.add(MaxPooling2D(pool_size = (2, 2)))\n",
        "\n",
        "model.add(Flatten())\n",
        "model.add(Dense(64))\n",
        "model.add(Activation('relu'))\n",
        "model.add(Dropout(0.5))\n",
        "\n",
        "model.add(Dense(1))\n",
        "model.add(Activation('sigmoid'))"
      ],
      "metadata": {
        "id": "UGOUFzIUMY7a"
      },
      "execution_count": 148,
      "outputs": []
    },
    {
      "cell_type": "code",
      "source": [
        "print(label)"
      ],
      "metadata": {
        "colab": {
          "base_uri": "https://localhost:8080/"
        },
        "id": "NAIGKo8xF-_c",
        "outputId": "2ac26d0b-9d36-4bee-f9a3-69fe0f7137ed"
      },
      "execution_count": 149,
      "outputs": [
        {
          "output_type": "stream",
          "name": "stdout",
          "text": [
            "[0 0 0 0 0 0 0 0 0 0 1 1 1 1 1 1 1 1 1 1]\n"
          ]
        }
      ]
    },
    {
      "cell_type": "code",
      "source": [
        "model.summary()"
      ],
      "metadata": {
        "colab": {
          "base_uri": "https://localhost:8080/"
        },
        "id": "zriO7TgUl1Mx",
        "outputId": "7106ec8e-b705-4303-a19e-16f7d85742b7"
      },
      "execution_count": 150,
      "outputs": [
        {
          "output_type": "stream",
          "name": "stdout",
          "text": [
            "Model: \"sequential_2\"\n",
            "_________________________________________________________________\n",
            " Layer (type)                Output Shape              Param #   \n",
            "=================================================================\n",
            " conv2d_5 (Conv2D)           (None, 148, 148, 32)      896       \n",
            "                                                                 \n",
            " activation_7 (Activation)   (None, 148, 148, 32)      0         \n",
            "                                                                 \n",
            " max_pooling2d_5 (MaxPooling  (None, 74, 74, 32)       0         \n",
            " 2D)                                                             \n",
            "                                                                 \n",
            " conv2d_6 (Conv2D)           (None, 72, 72, 32)        9248      \n",
            "                                                                 \n",
            " activation_8 (Activation)   (None, 72, 72, 32)        0         \n",
            "                                                                 \n",
            " max_pooling2d_6 (MaxPooling  (None, 36, 36, 32)       0         \n",
            " 2D)                                                             \n",
            "                                                                 \n",
            " conv2d_7 (Conv2D)           (None, 34, 34, 64)        18496     \n",
            "                                                                 \n",
            " activation_9 (Activation)   (None, 34, 34, 64)        0         \n",
            "                                                                 \n",
            " max_pooling2d_7 (MaxPooling  (None, 17, 17, 64)       0         \n",
            " 2D)                                                             \n",
            "                                                                 \n",
            " flatten_1 (Flatten)         (None, 18496)             0         \n",
            "                                                                 \n",
            " dense_2 (Dense)             (None, 64)                1183808   \n",
            "                                                                 \n",
            " activation_10 (Activation)  (None, 64)                0         \n",
            "                                                                 \n",
            " dropout_1 (Dropout)         (None, 64)                0         \n",
            "                                                                 \n",
            " dense_3 (Dense)             (None, 1)                 65        \n",
            "                                                                 \n",
            " activation_11 (Activation)  (None, 1)                 0         \n",
            "                                                                 \n",
            "=================================================================\n",
            "Total params: 1,212,513\n",
            "Trainable params: 1,212,513\n",
            "Non-trainable params: 0\n",
            "_________________________________________________________________\n"
          ]
        }
      ]
    }
  ]
}